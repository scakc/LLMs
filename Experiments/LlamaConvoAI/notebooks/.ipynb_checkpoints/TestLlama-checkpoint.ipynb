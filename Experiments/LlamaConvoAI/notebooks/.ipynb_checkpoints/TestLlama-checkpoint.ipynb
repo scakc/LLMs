{
 "cells": [
  {
   "cell_type": "code",
   "execution_count": null,
   "id": "621ca08e-a420-4a74-8c86-50796f5c4371",
   "metadata": {},
   "outputs": [],
   "source": []
  }
 ],
 "metadata": {
  "kernelspec": {
   "display_name": "Python 3 (ipykernel)",
   "language": "python",
   "name": "python3"
  },
  "language_info": {
   "codemirror_mode": {
    "name": "ipython",
    "version": 3
   },
   "file_extension": ".py",
   "mimetype": "text/x-python",
   "name": "python",
   "nbconvert_exporter": "python",
   "pygments_lexer": "ipython3",
   "version": "3.10.9"
  }
 },
 "nbformat": 4,
 "nbformat_minor": 5
}
